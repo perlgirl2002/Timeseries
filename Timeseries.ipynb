{
 "cells": [
  {
   "cell_type": "code",
   "execution_count": 1,
   "metadata": {
    "collapsed": true
   },
   "outputs": [],
   "source": [
    "import pandas as pd\n",
    "import numpy as np\n",
    "import seaborn as sns\n",
    "import matplotlib.pyplot as plt\n",
    "%matplotlib inline"
   ]
  },
  {
   "cell_type": "code",
   "execution_count": 146,
   "metadata": {
    "collapsed": true
   },
   "outputs": [],
   "source": [
    "http_df = pd.read_csv(\"C:\\\\Users\\\\kim\\\\Downloads\\\\r2\\\\http.csv\")"
   ]
  },
  {
   "cell_type": "code",
   "execution_count": 2,
   "metadata": {
    "collapsed": true
   },
   "outputs": [],
   "source": [
    "logon_df = pd.read_csv(\"C:\\\\Users\\\\kim\\\\Downloads\\\\r2\\\\logon.csv\")"
   ]
  },
  {
   "cell_type": "code",
   "execution_count": 148,
   "metadata": {},
   "outputs": [
    {
     "data": {
      "text/html": [
       "<div>\n",
       "<style>\n",
       "    .dataframe thead tr:only-child th {\n",
       "        text-align: right;\n",
       "    }\n",
       "\n",
       "    .dataframe thead th {\n",
       "        text-align: left;\n",
       "    }\n",
       "\n",
       "    .dataframe tbody tr th {\n",
       "        vertical-align: top;\n",
       "    }\n",
       "</style>\n",
       "<table border=\"1\" class=\"dataframe\">\n",
       "  <thead>\n",
       "    <tr style=\"text-align: right;\">\n",
       "      <th></th>\n",
       "      <th>id</th>\n",
       "      <th>date</th>\n",
       "      <th>user</th>\n",
       "      <th>pc</th>\n",
       "      <th>url</th>\n",
       "    </tr>\n",
       "  </thead>\n",
       "  <tbody>\n",
       "    <tr>\n",
       "      <th>0</th>\n",
       "      <td>{A5Z0-O7YI19HY-2327MTUD}</td>\n",
       "      <td>01/04/2010 00:11:14</td>\n",
       "      <td>XAW0291</td>\n",
       "      <td>PC-1897</td>\n",
       "      <td>http://espn.go.com</td>\n",
       "    </tr>\n",
       "    <tr>\n",
       "      <th>1</th>\n",
       "      <td>{I2D2-H2HE07ZC-7547MMBZ}</td>\n",
       "      <td>01/04/2010 00:17:09</td>\n",
       "      <td>XAW0291</td>\n",
       "      <td>PC-1897</td>\n",
       "      <td>http://aol.com</td>\n",
       "    </tr>\n",
       "    <tr>\n",
       "      <th>2</th>\n",
       "      <td>{A5I3-U0KO25JD-1385DSOT}</td>\n",
       "      <td>01/04/2010 06:15:16</td>\n",
       "      <td>GOF0098</td>\n",
       "      <td>PC-5628</td>\n",
       "      <td>http://t.co</td>\n",
       "    </tr>\n",
       "    <tr>\n",
       "      <th>3</th>\n",
       "      <td>{E4U0-Z3IA14TT-0368VHTQ}</td>\n",
       "      <td>01/04/2010 06:15:48</td>\n",
       "      <td>GOF0098</td>\n",
       "      <td>PC-5628</td>\n",
       "      <td>http://expedia.com</td>\n",
       "    </tr>\n",
       "    <tr>\n",
       "      <th>4</th>\n",
       "      <td>{Y6W8-R7RS54AX-7698XOES}</td>\n",
       "      <td>01/04/2010 06:17:07</td>\n",
       "      <td>BTC0414</td>\n",
       "      <td>PC-1953</td>\n",
       "      <td>http://wordpress.com</td>\n",
       "    </tr>\n",
       "  </tbody>\n",
       "</table>\n",
       "</div>"
      ],
      "text/plain": [
       "                         id                 date     user       pc  \\\n",
       "0  {A5Z0-O7YI19HY-2327MTUD}  01/04/2010 00:11:14  XAW0291  PC-1897   \n",
       "1  {I2D2-H2HE07ZC-7547MMBZ}  01/04/2010 00:17:09  XAW0291  PC-1897   \n",
       "2  {A5I3-U0KO25JD-1385DSOT}  01/04/2010 06:15:16  GOF0098  PC-5628   \n",
       "3  {E4U0-Z3IA14TT-0368VHTQ}  01/04/2010 06:15:48  GOF0098  PC-5628   \n",
       "4  {Y6W8-R7RS54AX-7698XOES}  01/04/2010 06:17:07  BTC0414  PC-1953   \n",
       "\n",
       "                    url  \n",
       "0    http://espn.go.com  \n",
       "1        http://aol.com  \n",
       "2           http://t.co  \n",
       "3    http://expedia.com  \n",
       "4  http://wordpress.com  "
      ]
     },
     "execution_count": 148,
     "metadata": {},
     "output_type": "execute_result"
    }
   ],
   "source": [
    "http_df.head()"
   ]
  },
  {
   "cell_type": "code",
   "execution_count": 149,
   "metadata": {
    "collapsed": true
   },
   "outputs": [],
   "source": [
    "from datetime import datetime\n",
    "http_df['new_date'] = http_df['date'].apply(lambda x: datetime.strptime(x, '%m/%d/%Y %H:%M:%S').strftime(\"%m/%d/%Y\"))"
   ]
  },
  {
   "cell_type": "code",
   "execution_count": 150,
   "metadata": {},
   "outputs": [
    {
     "data": {
      "text/html": [
       "<div>\n",
       "<style>\n",
       "    .dataframe thead tr:only-child th {\n",
       "        text-align: right;\n",
       "    }\n",
       "\n",
       "    .dataframe thead th {\n",
       "        text-align: left;\n",
       "    }\n",
       "\n",
       "    .dataframe tbody tr th {\n",
       "        vertical-align: top;\n",
       "    }\n",
       "</style>\n",
       "<table border=\"1\" class=\"dataframe\">\n",
       "  <thead>\n",
       "    <tr style=\"text-align: right;\">\n",
       "      <th></th>\n",
       "      <th>id</th>\n",
       "      <th>date</th>\n",
       "      <th>user</th>\n",
       "      <th>pc</th>\n",
       "      <th>url</th>\n",
       "      <th>new_date</th>\n",
       "    </tr>\n",
       "  </thead>\n",
       "  <tbody>\n",
       "    <tr>\n",
       "      <th>0</th>\n",
       "      <td>{A5Z0-O7YI19HY-2327MTUD}</td>\n",
       "      <td>01/04/2010 00:11:14</td>\n",
       "      <td>XAW0291</td>\n",
       "      <td>PC-1897</td>\n",
       "      <td>http://espn.go.com</td>\n",
       "      <td>01/04/2010</td>\n",
       "    </tr>\n",
       "    <tr>\n",
       "      <th>1</th>\n",
       "      <td>{I2D2-H2HE07ZC-7547MMBZ}</td>\n",
       "      <td>01/04/2010 00:17:09</td>\n",
       "      <td>XAW0291</td>\n",
       "      <td>PC-1897</td>\n",
       "      <td>http://aol.com</td>\n",
       "      <td>01/04/2010</td>\n",
       "    </tr>\n",
       "    <tr>\n",
       "      <th>2</th>\n",
       "      <td>{A5I3-U0KO25JD-1385DSOT}</td>\n",
       "      <td>01/04/2010 06:15:16</td>\n",
       "      <td>GOF0098</td>\n",
       "      <td>PC-5628</td>\n",
       "      <td>http://t.co</td>\n",
       "      <td>01/04/2010</td>\n",
       "    </tr>\n",
       "    <tr>\n",
       "      <th>3</th>\n",
       "      <td>{E4U0-Z3IA14TT-0368VHTQ}</td>\n",
       "      <td>01/04/2010 06:15:48</td>\n",
       "      <td>GOF0098</td>\n",
       "      <td>PC-5628</td>\n",
       "      <td>http://expedia.com</td>\n",
       "      <td>01/04/2010</td>\n",
       "    </tr>\n",
       "    <tr>\n",
       "      <th>4</th>\n",
       "      <td>{Y6W8-R7RS54AX-7698XOES}</td>\n",
       "      <td>01/04/2010 06:17:07</td>\n",
       "      <td>BTC0414</td>\n",
       "      <td>PC-1953</td>\n",
       "      <td>http://wordpress.com</td>\n",
       "      <td>01/04/2010</td>\n",
       "    </tr>\n",
       "  </tbody>\n",
       "</table>\n",
       "</div>"
      ],
      "text/plain": [
       "                         id                 date     user       pc  \\\n",
       "0  {A5Z0-O7YI19HY-2327MTUD}  01/04/2010 00:11:14  XAW0291  PC-1897   \n",
       "1  {I2D2-H2HE07ZC-7547MMBZ}  01/04/2010 00:17:09  XAW0291  PC-1897   \n",
       "2  {A5I3-U0KO25JD-1385DSOT}  01/04/2010 06:15:16  GOF0098  PC-5628   \n",
       "3  {E4U0-Z3IA14TT-0368VHTQ}  01/04/2010 06:15:48  GOF0098  PC-5628   \n",
       "4  {Y6W8-R7RS54AX-7698XOES}  01/04/2010 06:17:07  BTC0414  PC-1953   \n",
       "\n",
       "                    url    new_date  \n",
       "0    http://espn.go.com  01/04/2010  \n",
       "1        http://aol.com  01/04/2010  \n",
       "2           http://t.co  01/04/2010  \n",
       "3    http://expedia.com  01/04/2010  \n",
       "4  http://wordpress.com  01/04/2010  "
      ]
     },
     "execution_count": 150,
     "metadata": {},
     "output_type": "execute_result"
    }
   ],
   "source": [
    "http_df.head()"
   ]
  },
  {
   "cell_type": "code",
   "execution_count": 3,
   "metadata": {},
   "outputs": [
    {
     "data": {
      "text/html": [
       "<div>\n",
       "<style>\n",
       "    .dataframe thead tr:only-child th {\n",
       "        text-align: right;\n",
       "    }\n",
       "\n",
       "    .dataframe thead th {\n",
       "        text-align: left;\n",
       "    }\n",
       "\n",
       "    .dataframe tbody tr th {\n",
       "        vertical-align: top;\n",
       "    }\n",
       "</style>\n",
       "<table border=\"1\" class=\"dataframe\">\n",
       "  <thead>\n",
       "    <tr style=\"text-align: right;\">\n",
       "      <th></th>\n",
       "      <th>id</th>\n",
       "      <th>date</th>\n",
       "      <th>user</th>\n",
       "      <th>pc</th>\n",
       "      <th>activity</th>\n",
       "    </tr>\n",
       "  </thead>\n",
       "  <tbody>\n",
       "    <tr>\n",
       "      <th>0</th>\n",
       "      <td>{Q9W7-Z6TD90VH-9722UOQW}</td>\n",
       "      <td>1/4/2010 8:47:00</td>\n",
       "      <td>DBT0001</td>\n",
       "      <td>PC-8395</td>\n",
       "      <td>Logon</td>\n",
       "    </tr>\n",
       "    <tr>\n",
       "      <th>1</th>\n",
       "      <td>{M0G5-U3UB28KR-1843ZWNN}</td>\n",
       "      <td>1/4/2010 11:49:45</td>\n",
       "      <td>DBT0001</td>\n",
       "      <td>PC-8660</td>\n",
       "      <td>Logon</td>\n",
       "    </tr>\n",
       "    <tr>\n",
       "      <th>2</th>\n",
       "      <td>{M7T7-A6VZ99JN-1013WISU}</td>\n",
       "      <td>1/4/2010 12:44:39</td>\n",
       "      <td>DBT0001</td>\n",
       "      <td>PC-8660</td>\n",
       "      <td>Logoff</td>\n",
       "    </tr>\n",
       "    <tr>\n",
       "      <th>3</th>\n",
       "      <td>{J3H6-C7LN75YJ-4291TUHK}</td>\n",
       "      <td>1/4/2010 13:22:24</td>\n",
       "      <td>DBT0001</td>\n",
       "      <td>PC-8395</td>\n",
       "      <td>Logon</td>\n",
       "    </tr>\n",
       "    <tr>\n",
       "      <th>4</th>\n",
       "      <td>{W9Q2-T1IC68GM-6231DJFO}</td>\n",
       "      <td>1/4/2010 15:45:00</td>\n",
       "      <td>DBT0001</td>\n",
       "      <td>PC-8395</td>\n",
       "      <td>Logoff</td>\n",
       "    </tr>\n",
       "  </tbody>\n",
       "</table>\n",
       "</div>"
      ],
      "text/plain": [
       "                         id               date     user       pc activity\n",
       "0  {Q9W7-Z6TD90VH-9722UOQW}   1/4/2010 8:47:00  DBT0001  PC-8395    Logon\n",
       "1  {M0G5-U3UB28KR-1843ZWNN}  1/4/2010 11:49:45  DBT0001  PC-8660    Logon\n",
       "2  {M7T7-A6VZ99JN-1013WISU}  1/4/2010 12:44:39  DBT0001  PC-8660   Logoff\n",
       "3  {J3H6-C7LN75YJ-4291TUHK}  1/4/2010 13:22:24  DBT0001  PC-8395    Logon\n",
       "4  {W9Q2-T1IC68GM-6231DJFO}  1/4/2010 15:45:00  DBT0001  PC-8395   Logoff"
      ]
     },
     "execution_count": 3,
     "metadata": {},
     "output_type": "execute_result"
    }
   ],
   "source": [
    "logon_df.head()"
   ]
  },
  {
   "cell_type": "code",
   "execution_count": 4,
   "metadata": {
    "collapsed": true
   },
   "outputs": [],
   "source": [
    "from datetime import datetime\n",
    "logon_df['new_date'] = logon_df['date'].apply(lambda x: datetime.strptime(x, '%m/%d/%Y %H:%M:%S').strftime(\"%m/%d/%Y\"))"
   ]
  },
  {
   "cell_type": "code",
   "execution_count": 5,
   "metadata": {
    "collapsed": true
   },
   "outputs": [],
   "source": [
    "del logon_df['id']\n",
    "del logon_df['date']"
   ]
  },
  {
   "cell_type": "code",
   "execution_count": 6,
   "metadata": {
    "collapsed": true
   },
   "outputs": [],
   "source": [
    "logon_df = logon_df[logon_df['activity']=='Logon']"
   ]
  },
  {
   "cell_type": "code",
   "execution_count": 7,
   "metadata": {
    "collapsed": true
   },
   "outputs": [],
   "source": [
    "logon_df = logon_df[logon_df['user']=='DBT0001']"
   ]
  },
  {
   "cell_type": "code",
   "execution_count": 8,
   "metadata": {
    "collapsed": true
   },
   "outputs": [],
   "source": [
    "group_logons = logon_df.groupby(['new_date'])['pc'].nunique().reset_index()"
   ]
  },
  {
   "cell_type": "code",
   "execution_count": 9,
   "metadata": {},
   "outputs": [
    {
     "data": {
      "text/html": [
       "<div>\n",
       "<style>\n",
       "    .dataframe thead tr:only-child th {\n",
       "        text-align: right;\n",
       "    }\n",
       "\n",
       "    .dataframe thead th {\n",
       "        text-align: left;\n",
       "    }\n",
       "\n",
       "    .dataframe tbody tr th {\n",
       "        vertical-align: top;\n",
       "    }\n",
       "</style>\n",
       "<table border=\"1\" class=\"dataframe\">\n",
       "  <thead>\n",
       "    <tr style=\"text-align: right;\">\n",
       "      <th></th>\n",
       "      <th>user</th>\n",
       "      <th>pc</th>\n",
       "      <th>activity</th>\n",
       "      <th>new_date</th>\n",
       "    </tr>\n",
       "  </thead>\n",
       "  <tbody>\n",
       "    <tr>\n",
       "      <th>618119</th>\n",
       "      <td>DBT0001</td>\n",
       "      <td>PC-8395</td>\n",
       "      <td>Logon</td>\n",
       "      <td>01/03/2011</td>\n",
       "    </tr>\n",
       "    <tr>\n",
       "      <th>618120</th>\n",
       "      <td>DBT0001</td>\n",
       "      <td>PC-2998</td>\n",
       "      <td>Logon</td>\n",
       "      <td>01/03/2011</td>\n",
       "    </tr>\n",
       "    <tr>\n",
       "      <th>618122</th>\n",
       "      <td>DBT0001</td>\n",
       "      <td>PC-8395</td>\n",
       "      <td>Logon</td>\n",
       "      <td>01/03/2011</td>\n",
       "    </tr>\n",
       "  </tbody>\n",
       "</table>\n",
       "</div>"
      ],
      "text/plain": [
       "           user       pc activity    new_date\n",
       "618119  DBT0001  PC-8395    Logon  01/03/2011\n",
       "618120  DBT0001  PC-2998    Logon  01/03/2011\n",
       "618122  DBT0001  PC-8395    Logon  01/03/2011"
      ]
     },
     "execution_count": 9,
     "metadata": {},
     "output_type": "execute_result"
    }
   ],
   "source": [
    "logon_df[logon_df['new_date']=='01/03/2011']"
   ]
  },
  {
   "cell_type": "code",
   "execution_count": 10,
   "metadata": {
    "scrolled": true
   },
   "outputs": [
    {
     "data": {
      "text/html": [
       "<div>\n",
       "<style>\n",
       "    .dataframe thead tr:only-child th {\n",
       "        text-align: right;\n",
       "    }\n",
       "\n",
       "    .dataframe thead th {\n",
       "        text-align: left;\n",
       "    }\n",
       "\n",
       "    .dataframe tbody tr th {\n",
       "        vertical-align: top;\n",
       "    }\n",
       "</style>\n",
       "<table border=\"1\" class=\"dataframe\">\n",
       "  <thead>\n",
       "    <tr style=\"text-align: right;\">\n",
       "      <th></th>\n",
       "      <th>new_date</th>\n",
       "      <th>pc</th>\n",
       "    </tr>\n",
       "  </thead>\n",
       "  <tbody>\n",
       "    <tr>\n",
       "      <th>0</th>\n",
       "      <td>01/03/2011</td>\n",
       "      <td>2</td>\n",
       "    </tr>\n",
       "    <tr>\n",
       "      <th>1</th>\n",
       "      <td>01/04/2010</td>\n",
       "      <td>2</td>\n",
       "    </tr>\n",
       "    <tr>\n",
       "      <th>2</th>\n",
       "      <td>01/04/2011</td>\n",
       "      <td>1</td>\n",
       "    </tr>\n",
       "    <tr>\n",
       "      <th>3</th>\n",
       "      <td>01/05/2010</td>\n",
       "      <td>1</td>\n",
       "    </tr>\n",
       "    <tr>\n",
       "      <th>4</th>\n",
       "      <td>01/05/2011</td>\n",
       "      <td>1</td>\n",
       "    </tr>\n",
       "    <tr>\n",
       "      <th>5</th>\n",
       "      <td>01/06/2010</td>\n",
       "      <td>1</td>\n",
       "    </tr>\n",
       "    <tr>\n",
       "      <th>6</th>\n",
       "      <td>01/06/2011</td>\n",
       "      <td>1</td>\n",
       "    </tr>\n",
       "    <tr>\n",
       "      <th>7</th>\n",
       "      <td>01/07/2010</td>\n",
       "      <td>1</td>\n",
       "    </tr>\n",
       "    <tr>\n",
       "      <th>8</th>\n",
       "      <td>01/07/2011</td>\n",
       "      <td>1</td>\n",
       "    </tr>\n",
       "    <tr>\n",
       "      <th>9</th>\n",
       "      <td>01/08/2010</td>\n",
       "      <td>1</td>\n",
       "    </tr>\n",
       "    <tr>\n",
       "      <th>10</th>\n",
       "      <td>01/10/2011</td>\n",
       "      <td>1</td>\n",
       "    </tr>\n",
       "    <tr>\n",
       "      <th>11</th>\n",
       "      <td>01/11/2010</td>\n",
       "      <td>2</td>\n",
       "    </tr>\n",
       "    <tr>\n",
       "      <th>12</th>\n",
       "      <td>01/11/2011</td>\n",
       "      <td>1</td>\n",
       "    </tr>\n",
       "    <tr>\n",
       "      <th>13</th>\n",
       "      <td>01/12/2010</td>\n",
       "      <td>1</td>\n",
       "    </tr>\n",
       "    <tr>\n",
       "      <th>14</th>\n",
       "      <td>01/12/2011</td>\n",
       "      <td>1</td>\n",
       "    </tr>\n",
       "    <tr>\n",
       "      <th>15</th>\n",
       "      <td>01/13/2010</td>\n",
       "      <td>1</td>\n",
       "    </tr>\n",
       "    <tr>\n",
       "      <th>16</th>\n",
       "      <td>01/13/2011</td>\n",
       "      <td>1</td>\n",
       "    </tr>\n",
       "    <tr>\n",
       "      <th>17</th>\n",
       "      <td>01/14/2010</td>\n",
       "      <td>2</td>\n",
       "    </tr>\n",
       "    <tr>\n",
       "      <th>18</th>\n",
       "      <td>01/14/2011</td>\n",
       "      <td>1</td>\n",
       "    </tr>\n",
       "    <tr>\n",
       "      <th>19</th>\n",
       "      <td>01/15/2010</td>\n",
       "      <td>1</td>\n",
       "    </tr>\n",
       "    <tr>\n",
       "      <th>20</th>\n",
       "      <td>01/17/2011</td>\n",
       "      <td>1</td>\n",
       "    </tr>\n",
       "    <tr>\n",
       "      <th>21</th>\n",
       "      <td>01/18/2010</td>\n",
       "      <td>1</td>\n",
       "    </tr>\n",
       "    <tr>\n",
       "      <th>22</th>\n",
       "      <td>01/18/2011</td>\n",
       "      <td>1</td>\n",
       "    </tr>\n",
       "    <tr>\n",
       "      <th>23</th>\n",
       "      <td>01/19/2010</td>\n",
       "      <td>1</td>\n",
       "    </tr>\n",
       "    <tr>\n",
       "      <th>24</th>\n",
       "      <td>01/19/2011</td>\n",
       "      <td>1</td>\n",
       "    </tr>\n",
       "    <tr>\n",
       "      <th>25</th>\n",
       "      <td>01/20/2010</td>\n",
       "      <td>1</td>\n",
       "    </tr>\n",
       "    <tr>\n",
       "      <th>26</th>\n",
       "      <td>01/20/2011</td>\n",
       "      <td>1</td>\n",
       "    </tr>\n",
       "    <tr>\n",
       "      <th>27</th>\n",
       "      <td>01/21/2010</td>\n",
       "      <td>1</td>\n",
       "    </tr>\n",
       "    <tr>\n",
       "      <th>28</th>\n",
       "      <td>01/21/2011</td>\n",
       "      <td>1</td>\n",
       "    </tr>\n",
       "    <tr>\n",
       "      <th>29</th>\n",
       "      <td>01/22/2010</td>\n",
       "      <td>2</td>\n",
       "    </tr>\n",
       "    <tr>\n",
       "      <th>...</th>\n",
       "      <td>...</td>\n",
       "      <td>...</td>\n",
       "    </tr>\n",
       "    <tr>\n",
       "      <th>315</th>\n",
       "      <td>11/15/2010</td>\n",
       "      <td>1</td>\n",
       "    </tr>\n",
       "    <tr>\n",
       "      <th>316</th>\n",
       "      <td>11/16/2010</td>\n",
       "      <td>2</td>\n",
       "    </tr>\n",
       "    <tr>\n",
       "      <th>317</th>\n",
       "      <td>11/17/2010</td>\n",
       "      <td>2</td>\n",
       "    </tr>\n",
       "    <tr>\n",
       "      <th>318</th>\n",
       "      <td>11/18/2010</td>\n",
       "      <td>2</td>\n",
       "    </tr>\n",
       "    <tr>\n",
       "      <th>319</th>\n",
       "      <td>11/19/2010</td>\n",
       "      <td>1</td>\n",
       "    </tr>\n",
       "    <tr>\n",
       "      <th>320</th>\n",
       "      <td>11/22/2010</td>\n",
       "      <td>1</td>\n",
       "    </tr>\n",
       "    <tr>\n",
       "      <th>321</th>\n",
       "      <td>11/23/2010</td>\n",
       "      <td>2</td>\n",
       "    </tr>\n",
       "    <tr>\n",
       "      <th>322</th>\n",
       "      <td>11/24/2010</td>\n",
       "      <td>2</td>\n",
       "    </tr>\n",
       "    <tr>\n",
       "      <th>323</th>\n",
       "      <td>11/29/2010</td>\n",
       "      <td>1</td>\n",
       "    </tr>\n",
       "    <tr>\n",
       "      <th>324</th>\n",
       "      <td>11/30/2010</td>\n",
       "      <td>1</td>\n",
       "    </tr>\n",
       "    <tr>\n",
       "      <th>325</th>\n",
       "      <td>12/01/2010</td>\n",
       "      <td>1</td>\n",
       "    </tr>\n",
       "    <tr>\n",
       "      <th>326</th>\n",
       "      <td>12/02/2010</td>\n",
       "      <td>1</td>\n",
       "    </tr>\n",
       "    <tr>\n",
       "      <th>327</th>\n",
       "      <td>12/03/2010</td>\n",
       "      <td>2</td>\n",
       "    </tr>\n",
       "    <tr>\n",
       "      <th>328</th>\n",
       "      <td>12/06/2010</td>\n",
       "      <td>2</td>\n",
       "    </tr>\n",
       "    <tr>\n",
       "      <th>329</th>\n",
       "      <td>12/07/2010</td>\n",
       "      <td>1</td>\n",
       "    </tr>\n",
       "    <tr>\n",
       "      <th>330</th>\n",
       "      <td>12/08/2010</td>\n",
       "      <td>2</td>\n",
       "    </tr>\n",
       "    <tr>\n",
       "      <th>331</th>\n",
       "      <td>12/09/2010</td>\n",
       "      <td>2</td>\n",
       "    </tr>\n",
       "    <tr>\n",
       "      <th>332</th>\n",
       "      <td>12/10/2010</td>\n",
       "      <td>1</td>\n",
       "    </tr>\n",
       "    <tr>\n",
       "      <th>333</th>\n",
       "      <td>12/13/2010</td>\n",
       "      <td>2</td>\n",
       "    </tr>\n",
       "    <tr>\n",
       "      <th>334</th>\n",
       "      <td>12/14/2010</td>\n",
       "      <td>2</td>\n",
       "    </tr>\n",
       "    <tr>\n",
       "      <th>335</th>\n",
       "      <td>12/15/2010</td>\n",
       "      <td>1</td>\n",
       "    </tr>\n",
       "    <tr>\n",
       "      <th>336</th>\n",
       "      <td>12/16/2010</td>\n",
       "      <td>1</td>\n",
       "    </tr>\n",
       "    <tr>\n",
       "      <th>337</th>\n",
       "      <td>12/17/2010</td>\n",
       "      <td>1</td>\n",
       "    </tr>\n",
       "    <tr>\n",
       "      <th>338</th>\n",
       "      <td>12/20/2010</td>\n",
       "      <td>1</td>\n",
       "    </tr>\n",
       "    <tr>\n",
       "      <th>339</th>\n",
       "      <td>12/21/2010</td>\n",
       "      <td>1</td>\n",
       "    </tr>\n",
       "    <tr>\n",
       "      <th>340</th>\n",
       "      <td>12/22/2010</td>\n",
       "      <td>1</td>\n",
       "    </tr>\n",
       "    <tr>\n",
       "      <th>341</th>\n",
       "      <td>12/27/2010</td>\n",
       "      <td>1</td>\n",
       "    </tr>\n",
       "    <tr>\n",
       "      <th>342</th>\n",
       "      <td>12/28/2010</td>\n",
       "      <td>2</td>\n",
       "    </tr>\n",
       "    <tr>\n",
       "      <th>343</th>\n",
       "      <td>12/29/2010</td>\n",
       "      <td>1</td>\n",
       "    </tr>\n",
       "    <tr>\n",
       "      <th>344</th>\n",
       "      <td>12/30/2010</td>\n",
       "      <td>1</td>\n",
       "    </tr>\n",
       "  </tbody>\n",
       "</table>\n",
       "<p>345 rows × 2 columns</p>\n",
       "</div>"
      ],
      "text/plain": [
       "       new_date  pc\n",
       "0    01/03/2011   2\n",
       "1    01/04/2010   2\n",
       "2    01/04/2011   1\n",
       "3    01/05/2010   1\n",
       "4    01/05/2011   1\n",
       "5    01/06/2010   1\n",
       "6    01/06/2011   1\n",
       "7    01/07/2010   1\n",
       "8    01/07/2011   1\n",
       "9    01/08/2010   1\n",
       "10   01/10/2011   1\n",
       "11   01/11/2010   2\n",
       "12   01/11/2011   1\n",
       "13   01/12/2010   1\n",
       "14   01/12/2011   1\n",
       "15   01/13/2010   1\n",
       "16   01/13/2011   1\n",
       "17   01/14/2010   2\n",
       "18   01/14/2011   1\n",
       "19   01/15/2010   1\n",
       "20   01/17/2011   1\n",
       "21   01/18/2010   1\n",
       "22   01/18/2011   1\n",
       "23   01/19/2010   1\n",
       "24   01/19/2011   1\n",
       "25   01/20/2010   1\n",
       "26   01/20/2011   1\n",
       "27   01/21/2010   1\n",
       "28   01/21/2011   1\n",
       "29   01/22/2010   2\n",
       "..          ...  ..\n",
       "315  11/15/2010   1\n",
       "316  11/16/2010   2\n",
       "317  11/17/2010   2\n",
       "318  11/18/2010   2\n",
       "319  11/19/2010   1\n",
       "320  11/22/2010   1\n",
       "321  11/23/2010   2\n",
       "322  11/24/2010   2\n",
       "323  11/29/2010   1\n",
       "324  11/30/2010   1\n",
       "325  12/01/2010   1\n",
       "326  12/02/2010   1\n",
       "327  12/03/2010   2\n",
       "328  12/06/2010   2\n",
       "329  12/07/2010   1\n",
       "330  12/08/2010   2\n",
       "331  12/09/2010   2\n",
       "332  12/10/2010   1\n",
       "333  12/13/2010   2\n",
       "334  12/14/2010   2\n",
       "335  12/15/2010   1\n",
       "336  12/16/2010   1\n",
       "337  12/17/2010   1\n",
       "338  12/20/2010   1\n",
       "339  12/21/2010   1\n",
       "340  12/22/2010   1\n",
       "341  12/27/2010   1\n",
       "342  12/28/2010   2\n",
       "343  12/29/2010   1\n",
       "344  12/30/2010   1\n",
       "\n",
       "[345 rows x 2 columns]"
      ]
     },
     "execution_count": 10,
     "metadata": {},
     "output_type": "execute_result"
    }
   ],
   "source": [
    "group_logons.sort_values(by='new_date')"
   ]
  },
  {
   "cell_type": "code",
   "execution_count": 11,
   "metadata": {},
   "outputs": [
    {
     "data": {
      "text/plain": [
       "1    253\n",
       "2     92\n",
       "Name: pc, dtype: int64"
      ]
     },
     "execution_count": 11,
     "metadata": {},
     "output_type": "execute_result"
    }
   ],
   "source": [
    "group_logons['pc'].value_counts()"
   ]
  },
  {
   "cell_type": "code",
   "execution_count": 12,
   "metadata": {
    "collapsed": true
   },
   "outputs": [],
   "source": [
    "group_logons.columns=['new_date','count']"
   ]
  },
  {
   "cell_type": "code",
   "execution_count": 13,
   "metadata": {
    "collapsed": true
   },
   "outputs": [],
   "source": [
    "group_logons.iloc[100, group_logons.columns.get_loc('count')] = 10"
   ]
  },
  {
   "cell_type": "code",
   "execution_count": 137,
   "metadata": {},
   "outputs": [
    {
     "data": {
      "text/plain": [
       "<matplotlib.axes._subplots.AxesSubplot at 0x1c302b10080>"
      ]
     },
     "execution_count": 137,
     "metadata": {},
     "output_type": "execute_result"
    },
    {
     "data": {
      "image/png": "[encoded data removed]",
      "text/plain": [
       "<matplotlib.figure.Figure at 0x1c2b032b940>"
      ]
     },
     "metadata": {},
     "output_type": "display_data"
    }
   ],
   "source": [
    "group_logons['count'].plot(kind='line') "
   ]
  },
  {
   "cell_type": "code",
   "execution_count": 197,
   "metadata": {
    "collapsed": true
   },
   "outputs": [],
   "source": [
    "counts = group_logons['count'].as_matrix()"
   ]
  },
  {
   "cell_type": "code",
   "execution_count": 14,
   "metadata": {},
   "outputs": [
    {
     "name": "stderr",
     "output_type": "stream",
     "text": [
      "C:\\Users\\kim\\Anaconda3\\lib\\site-packages\\statsmodels\\compat\\pandas.py:56: FutureWarning: The pandas.core.datetools module is deprecated and will be removed in a future version. Please use the pandas.tseries module instead.\n",
      "  from pandas.core import datetools\n"
     ]
    }
   ],
   "source": [
    "from statsmodels.graphics.tsaplots import plot_acf"
   ]
  },
  {
   "cell_type": "code",
   "execution_count": 15,
   "metadata": {},
   "outputs": [],
   "source": [
    "from statsmodels.graphics.tsaplots import plot_pacf"
   ]
  },
  {
   "cell_type": "code",
   "execution_count": 17,
   "metadata": {},
   "outputs": [
    {
     "data": {
      "text/html": [
       "<div>\n",
       "<style>\n",
       "    .dataframe thead tr:only-child th {\n",
       "        text-align: right;\n",
       "    }\n",
       "\n",
       "    .dataframe thead th {\n",
       "        text-align: left;\n",
       "    }\n",
       "\n",
       "    .dataframe tbody tr th {\n",
       "        vertical-align: top;\n",
       "    }\n",
       "</style>\n",
       "<table border=\"1\" class=\"dataframe\">\n",
       "  <thead>\n",
       "    <tr style=\"text-align: right;\">\n",
       "      <th></th>\n",
       "      <th>count</th>\n",
       "    </tr>\n",
       "    <tr>\n",
       "      <th>new_date</th>\n",
       "      <th></th>\n",
       "    </tr>\n",
       "  </thead>\n",
       "  <tbody>\n",
       "    <tr>\n",
       "      <th>01/03/2011</th>\n",
       "      <td>2</td>\n",
       "    </tr>\n",
       "    <tr>\n",
       "      <th>01/04/2010</th>\n",
       "      <td>2</td>\n",
       "    </tr>\n",
       "    <tr>\n",
       "      <th>01/04/2011</th>\n",
       "      <td>1</td>\n",
       "    </tr>\n",
       "    <tr>\n",
       "      <th>01/05/2010</th>\n",
       "      <td>1</td>\n",
       "    </tr>\n",
       "    <tr>\n",
       "      <th>01/05/2011</th>\n",
       "      <td>1</td>\n",
       "    </tr>\n",
       "  </tbody>\n",
       "</table>\n",
       "</div>"
      ],
      "text/plain": [
       "            count\n",
       "new_date         \n",
       "01/03/2011      2\n",
       "01/04/2010      2\n",
       "01/04/2011      1\n",
       "01/05/2010      1\n",
       "01/05/2011      1"
      ]
     },
     "execution_count": 17,
     "metadata": {},
     "output_type": "execute_result"
    }
   ],
   "source": [
    "group_logons.set_index('new_date').head()"
   ]
  },
  {
   "cell_type": "code",
   "execution_count": 18,
   "metadata": {},
   "outputs": [
    {
     "data": {
      "text/plain": [
       "<matplotlib.axes._subplots.AxesSubplot at 0x22b0f318f98>"
      ]
     },
     "execution_count": 18,
     "metadata": {},
     "output_type": "execute_result"
    },
    {
     "data": {
      "image/png": "[encoded data removed]",
      "text/plain": [
       "<matplotlib.figure.Figure at 0x22b0f3186d8>"
      ]
     },
     "metadata": {},
     "output_type": "display_data"
    }
   ],
   "source": [
    "group_logons.plot()"
   ]
  },
  {
   "cell_type": "code",
   "execution_count": 19,
   "metadata": {
    "collapsed": true
   },
   "outputs": [],
   "source": [
    "from statsmodels.tsa.stattools import acf, pacf"
   ]
  },
  {
   "cell_type": "code",
   "execution_count": 20,
   "metadata": {},
   "outputs": [
    {
     "data": {
      "text/plain": [
       "<matplotlib.text.Text at 0x22b146e6dd8>"
      ]
     },
     "execution_count": 20,
     "metadata": {},
     "output_type": "execute_result"
    },
    {
     "data": {
      "image/png": "[encoded data removed]",
      "text/plain": [
       "<matplotlib.figure.Figure at 0x22b15965e10>"
      ]
     },
     "metadata": {},
     "output_type": "display_data"
    }
   ],
   "source": [
    "x_acf = pd.DataFrame(pacf(group_logons['count']))\n",
    "x_acf.plot(kind='bar')\n",
    "plt.title(\"AR(1) PACF\")"
   ]
  },
  {
   "cell_type": "code",
   "execution_count": 30,
   "metadata": {
    "collapsed": true
   },
   "outputs": [],
   "source": [
    "group_logons['MA'] = group_logons['count'].rolling(window=1).mean()"
   ]
  },
  {
   "cell_type": "code",
   "execution_count": 29,
   "metadata": {},
   "outputs": [
    {
     "data": {
      "text/plain": [
       "<matplotlib.text.Text at 0x22b11f0fc50>"
      ]
     },
     "execution_count": 29,
     "metadata": {},
     "output_type": "execute_result"
    },
    {
     "data": {
      "image/png": "[encoded data removed]",
      "text/plain": [
       "<matplotlib.figure.Figure at 0x22b1202ceb8>"
      ]
     },
     "metadata": {},
     "output_type": "display_data"
    }
   ],
   "source": [
    "ma5 = pd.DataFrame(pacf(group_logons['MA']))\n",
    "ma5.plot(kind='bar')\n",
    "plt.title(\"Moving Average Window=1\")"
   ]
  },
  {
   "cell_type": "code",
   "execution_count": 31,
   "metadata": {},
   "outputs": [
    {
     "data": {
      "text/plain": [
       "<matplotlib.text.Text at 0x22b10dd5978>"
      ]
     },
     "execution_count": 31,
     "metadata": {},
     "output_type": "execute_result"
    },
    {
     "data": {
      "image/png": "[encoded data removed]",
      "text/plain": [
       "<matplotlib.figure.Figure at 0x22b10e8e0b8>"
      ]
     },
     "metadata": {},
     "output_type": "display_data"
    }
   ],
   "source": [
    "group_logons['MA'] = group_logons['count'].rolling(window=2).mean()\n",
    "ma5 = pd.DataFrame(pacf(group_logons['MA']))\n",
    "ma5.plot(kind='bar')\n",
    "plt.title(\"Moving Average Window=2\")"
   ]
  },
  {
   "cell_type": "code",
   "execution_count": 33,
   "metadata": {},
   "outputs": [
    {
     "data": {
      "image/png": "[encoded data removed]",
      "text/plain": [
       "<matplotlib.figure.Figure at 0x22b10d05898>"
      ]
     },
     "metadata": {},
     "output_type": "display_data"
    }
   ],
   "source": [
    "group_logons['diff_1'] = group_logons['count'] - group_logons['count'].shift()\n",
    "group_logons.plot(y='diff_1')\n",
    "plt.title('Logons Count Time Series')\n",
    "plt.show()"
   ]
  },
  {
   "cell_type": "code",
   "execution_count": 37,
   "metadata": {},
   "outputs": [
    {
     "data": {
      "text/plain": [
       "<matplotlib.text.Text at 0x22b12d42da0>"
      ]
     },
     "execution_count": 37,
     "metadata": {},
     "output_type": "execute_result"
    },
    {
     "data": {
      "image/png": "[encoded data removed]",
      "text/plain": [
       "<matplotlib.figure.Figure at 0x22b0f672828>"
      ]
     },
     "metadata": {},
     "output_type": "display_data"
    }
   ],
   "source": [
    "from statsmodels.tsa.stattools import pacf\n",
    "x_acf = pd.DataFrame(pacf(group_logons['count']))\n",
    "x_acf.plot(kind='bar')\n",
    "plt.title(\"Initial Logons PACF\")"
   ]
  },
  {
   "cell_type": "code",
   "execution_count": 38,
   "metadata": {},
   "outputs": [
    {
     "data": {
      "text/plain": [
       "<matplotlib.legend.Legend at 0x22b0f40af98>"
      ]
     },
     "execution_count": 38,
     "metadata": {},
     "output_type": "execute_result"
    },
    {
     "data": {
      "image/png": "[encoded data removed]",
      "text/plain": [
       "<matplotlib.figure.Figure at 0x22b0f14d080>"
      ]
     },
     "metadata": {},
     "output_type": "display_data"
    }
   ],
   "source": [
    "x_acf = pd.DataFrame(pacf(group_logons.diff_1[1:]))\n",
    "x_acf.plot(kind='bar')\n",
    "plt.title(\"Logons Difference PACF\")\n",
    "plt.legend(['difference'])"
   ]
  },
  {
   "cell_type": "code",
   "execution_count": 46,
   "metadata": {},
   "outputs": [],
   "source": [
    "group_logons.set_index(['new_date'])\n",
    "group_logons.index = pd.to_datetime(group_logons.index, unit='ms')"
   ]
  },
  {
   "cell_type": "code",
   "execution_count": 49,
   "metadata": {},
   "outputs": [
    {
     "name": "stdout",
     "output_type": "stream",
     "text": [
      "                             ARIMA Model Results                              \n",
      "==============================================================================\n",
      "Dep. Variable:                D.count   No. Observations:                  344\n",
      "Model:                 ARIMA(1, 1, 1)   Log Likelihood                -339.914\n",
      "Method:                       css-mle   S.D. of innovations              0.644\n",
      "Date:                Fri, 16 Mar 2018   AIC                            687.828\n",
      "Time:                        13:17:14   BIC                            703.191\n",
      "Sample:                    01-01-1970   HQIC                           693.947\n",
      "                         - 01-01-1970                                         \n",
      "=================================================================================\n",
      "                    coef    std err          z      P>|z|      [0.025      0.975]\n",
      "---------------------------------------------------------------------------------\n",
      "const             0.0004      0.000      1.147      0.252      -0.000       0.001\n",
      "ar.L1.D.count    -0.0109      0.054     -0.201      0.840      -0.117       0.095\n",
      "ma.L1.D.count    -1.0000      0.009   -113.412      0.000      -1.017      -0.983\n",
      "                                    Roots                                    \n",
      "=============================================================================\n",
      "                 Real           Imaginary           Modulus         Frequency\n",
      "-----------------------------------------------------------------------------\n",
      "AR.1          -91.8537           +0.0000j           91.8537            0.5000\n",
      "MA.1            1.0000           +0.0000j            1.0000            0.0000\n",
      "-----------------------------------------------------------------------------\n",
      "Residuals Description\n",
      "count    344.000000\n",
      "mean      -0.000651\n",
      "std        0.649753\n",
      "min       -1.000595\n",
      "25%       -0.325074\n",
      "50%       -0.254462\n",
      "75%        0.644761\n",
      "max        8.828266\n",
      "dtype: float64\n"
     ]
    }
   ],
   "source": [
    "from statsmodels.tsa.arima_model import ARIMA\n",
    "model = ARIMA(group_logons['count'].astype(float), order=(1,1,1))\n",
    "model_fit = model.fit()\n",
    "print(model_fit.summary())\n",
    "print('Residuals Description')\n",
    "print(model_fit.resid.describe())"
   ]
  },
  {
   "cell_type": "code",
   "execution_count": 52,
   "metadata": {},
   "outputs": [
    {
     "name": "stderr",
     "output_type": "stream",
     "text": [
      "C:\\Users\\kim\\Anaconda3\\lib\\site-packages\\statsmodels\\tsa\\tsatools.py:628: RuntimeWarning: overflow encountered in exp\n",
      "  newparams = ((1-np.exp(-params))/(1+np.exp(-params))).copy()\n",
      "C:\\Users\\kim\\Anaconda3\\lib\\site-packages\\statsmodels\\tsa\\tsatools.py:628: RuntimeWarning: invalid value encountered in true_divide\n",
      "  newparams = ((1-np.exp(-params))/(1+np.exp(-params))).copy()\n",
      "C:\\Users\\kim\\Anaconda3\\lib\\site-packages\\statsmodels\\tsa\\tsatools.py:629: RuntimeWarning: overflow encountered in exp\n",
      "  tmp = ((1-np.exp(-params))/(1+np.exp(-params))).copy()\n",
      "C:\\Users\\kim\\Anaconda3\\lib\\site-packages\\statsmodels\\tsa\\tsatools.py:629: RuntimeWarning: invalid value encountered in true_divide\n",
      "  tmp = ((1-np.exp(-params))/(1+np.exp(-params))).copy()\n"
     ]
    },
    {
     "name": "stdout",
     "output_type": "stream",
     "text": [
      "                             ARIMA Model Results                              \n",
      "==============================================================================\n",
      "Dep. Variable:                D.count   No. Observations:                  344\n",
      "Model:                 ARIMA(2, 1, 2)   Log Likelihood                -339.389\n",
      "Method:                       css-mle   S.D. of innovations              0.644\n",
      "Date:                Fri, 16 Mar 2018   AIC                            690.777\n",
      "Time:                        13:23:17   BIC                            713.821\n",
      "Sample:                    01-01-1970   HQIC                           699.955\n",
      "                         - 01-01-1970                                         \n",
      "=================================================================================\n",
      "                    coef    std err          z      P>|z|      [0.025      0.975]\n",
      "---------------------------------------------------------------------------------\n",
      "const             0.0004      0.000      1.086      0.278      -0.000       0.001\n",
      "ar.L1.D.count    -0.3154      0.549     -0.574      0.566      -1.392       0.761\n",
      "ar.L2.D.count     0.0495      0.056      0.879      0.380      -0.061       0.160\n",
      "ma.L1.D.count    -0.6934      0.548     -1.265      0.207      -1.767       0.381\n",
      "ma.L2.D.count    -0.3066      0.548     -0.560      0.576      -1.380       0.767\n",
      "                                    Roots                                    \n",
      "=============================================================================\n",
      "                 Real           Imaginary           Modulus         Frequency\n",
      "-----------------------------------------------------------------------------\n",
      "AR.1           -2.3233           +0.0000j            2.3233            0.5000\n",
      "AR.2            8.6958           +0.0000j            8.6958            0.0000\n",
      "MA.1            1.0000           +0.0000j            1.0000            0.0000\n",
      "MA.2           -3.2617           +0.0000j            3.2617            0.5000\n",
      "-----------------------------------------------------------------------------\n",
      "Residuals Description\n",
      "count    344.000000\n",
      "mean      -0.001218\n",
      "std        0.648766\n",
      "min       -1.000597\n",
      "25%       -0.314482\n",
      "50%       -0.256457\n",
      "75%        0.619383\n",
      "max        8.835050\n",
      "dtype: float64\n"
     ]
    }
   ],
   "source": [
    "model212 = ARIMA(group_logons['count'].astype(float), order=(2,1,2))\n",
    "model_212_fit = model212.fit()\n",
    "print(model_212_fit.summary())\n",
    "print('Residuals Description')\n",
    "print(model_212_fit.resid.describe())"
   ]
  },
  {
   "cell_type": "code",
   "execution_count": 53,
   "metadata": {},
   "outputs": [
    {
     "data": {
      "text/plain": [
       "<matplotlib.text.Text at 0x22b0ebc7630>"
      ]
     },
     "execution_count": 53,
     "metadata": {},
     "output_type": "execute_result"
    },
    {
     "data": {
      "image/png": "[encoded data removed]",
      "text/plain": [
       "<matplotlib.figure.Figure at 0x22b0eeacdd8>"
      ]
     },
     "metadata": {},
     "output_type": "display_data"
    },
    {
     "data": {
      "image/png": "[encoded data removed]",
      "text/plain": [
       "<matplotlib.figure.Figure at 0x22b0eae5fd0>"
      ]
     },
     "metadata": {},
     "output_type": "display_data"
    }
   ],
   "source": [
    "residuals = pd.DataFrame(model_212_fit.resid)\n",
    "\n",
    "residuals.plot(legend=False)\n",
    "plt.title('Time Series of Residuals')\n",
    "\n",
    "residuals.hist(bins=20)\n",
    "plt.title('Histogram of Residuals')"
   ]
  },
  {
   "cell_type": "code",
   "execution_count": 54,
   "metadata": {},
   "outputs": [
    {
     "name": "stdout",
     "output_type": "stream",
     "text": [
      "                             ARIMA Model Results                              \n",
      "==============================================================================\n",
      "Dep. Variable:                D.count   No. Observations:                  344\n",
      "Model:                 ARIMA(0, 1, 1)   Log Likelihood                -339.934\n",
      "Method:                       css-mle   S.D. of innovations              0.645\n",
      "Date:                Fri, 16 Mar 2018   AIC                            685.869\n",
      "Time:                        13:27:36   BIC                            697.391\n",
      "Sample:                    01-01-1970   HQIC                           690.458\n",
      "                         - 01-01-1970                                         \n",
      "=================================================================================\n",
      "                    coef    std err          z      P>|z|      [0.025      0.975]\n",
      "---------------------------------------------------------------------------------\n",
      "const             0.0004      0.000      1.132      0.258      -0.000       0.001\n",
      "ma.L1.D.count    -1.0000      0.009   -114.103      0.000      -1.017      -0.983\n",
      "                                    Roots                                    \n",
      "=============================================================================\n",
      "                 Real           Imaginary           Modulus         Frequency\n",
      "-----------------------------------------------------------------------------\n",
      "MA.1            1.0000           +0.0000j            1.0000            0.0000\n",
      "-----------------------------------------------------------------------------\n",
      "Residuals Description\n",
      "count    344.000000\n",
      "mean      -0.000703\n",
      "std        0.649791\n",
      "min       -1.000592\n",
      "25%       -0.325236\n",
      "50%       -0.258374\n",
      "75%        0.644217\n",
      "max        8.830077\n",
      "dtype: float64\n"
     ]
    }
   ],
   "source": [
    "model011 = ARIMA(group_logons['count'].astype(float), order=(0,1,1))\n",
    "model_011_fit = model011.fit()\n",
    "print(model_011_fit.summary())\n",
    "print('Residuals Description')\n",
    "print(model_011_fit.resid.describe())"
   ]
  },
  {
   "cell_type": "code",
   "execution_count": 56,
   "metadata": {},
   "outputs": [
    {
     "name": "stdout",
     "output_type": "stream",
     "text": [
      "                             ARIMA Model Results                              \n",
      "==============================================================================\n",
      "Dep. Variable:                D.count   No. Observations:                  344\n",
      "Model:                 ARIMA(0, 1, 1)   Log Likelihood                -339.934\n",
      "Method:                       css-mle   S.D. of innovations              0.645\n",
      "Date:                Fri, 16 Mar 2018   AIC                            685.869\n",
      "Time:                        13:28:41   BIC                            697.391\n",
      "Sample:                    01-01-1970   HQIC                           690.458\n",
      "                         - 01-01-1970                                         \n",
      "=================================================================================\n",
      "                    coef    std err          z      P>|z|      [0.025      0.975]\n",
      "---------------------------------------------------------------------------------\n",
      "const             0.0004      0.000      1.132      0.258      -0.000       0.001\n",
      "ma.L1.D.count    -1.0000      0.009   -114.103      0.000      -1.017      -0.983\n",
      "                                    Roots                                    \n",
      "=============================================================================\n",
      "                 Real           Imaginary           Modulus         Frequency\n",
      "-----------------------------------------------------------------------------\n",
      "MA.1            1.0000           +0.0000j            1.0000            0.0000\n",
      "-----------------------------------------------------------------------------\n",
      "Residuals Description\n",
      "count    344.000000\n",
      "mean      -0.000703\n",
      "std        0.649791\n",
      "min       -1.000592\n",
      "25%       -0.325236\n",
      "50%       -0.258374\n",
      "75%        0.644217\n",
      "max        8.830077\n",
      "dtype: float64\n"
     ]
    }
   ],
   "source": [
    "model001 = ARIMA(group_logons['count'].astype(float), order=(0,0,1))\n",
    "model_001_fit = model011.fit()\n",
    "print(model_001_fit.summary())\n",
    "print('Residuals Description')\n",
    "print(model_001_fit.resid.describe())"
   ]
  },
  {
   "cell_type": "code",
   "execution_count": null,
   "metadata": {
    "collapsed": true
   },
   "outputs": [],
   "source": []
  }
 ],
 "metadata": {
  "kernelspec": {
   "display_name": "Python 3",
   "language": "python",
   "name": "python3"
  },
  "language_info": {
   "codemirror_mode": {
    "name": "ipython",
    "version": 3
   },
   "file_extension": ".py",
   "mimetype": "text/x-python",
   "name": "python",
   "nbconvert_exporter": "python",
   "pygments_lexer": "ipython3",
   "version": "3.6.1"
  }
 },
 "nbformat": 4,
 "nbformat_minor": 2
}
